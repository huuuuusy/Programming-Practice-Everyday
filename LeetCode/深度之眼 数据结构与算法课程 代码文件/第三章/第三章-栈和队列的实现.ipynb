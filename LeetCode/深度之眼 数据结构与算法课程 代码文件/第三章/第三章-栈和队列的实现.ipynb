{
 "cells": [
  {
   "cell_type": "code",
   "execution_count": 1,
   "metadata": {},
   "outputs": [],
   "source": [
    "class Stack(object):\n",
    "    \"\"\"栈\"\"\"\n",
    "    def __init__(self):\n",
    "         self.items = []\n",
    "\n",
    "    def is_empty(self):\n",
    "        \"\"\"判断是否为空\"\"\"\n",
    "        return self.items == []\n",
    "\n",
    "    def push(self, item):\n",
    "        \"\"\"加入元素\"\"\"\n",
    "        self.items.append(item)\n",
    "\n",
    "    def pop(self):\n",
    "        \"\"\"弹出元素\"\"\"\n",
    "        return self.items.pop()\n",
    "\n",
    "    def peek(self):\n",
    "        \"\"\"返回栈顶元素\"\"\"\n",
    "        return self.items[len(self.items)-1]\n",
    "\n",
    "    def size(self):\n",
    "        \"\"\"返回栈的大小\"\"\"\n",
    "        return len(self.items)"
   ]
  },
  {
   "cell_type": "code",
   "execution_count": 7,
   "metadata": {},
   "outputs": [
    {
     "name": "stdout",
     "output_type": "stream",
     "text": [
      "['HELLO', 'MY', 'FRIEND']\n",
      "3\n",
      "FRIEND\n",
      "FRIEND\n",
      "['HELLO', 'MY']\n",
      "MY\n",
      "HELLO\n",
      "[]\n"
     ]
    }
   ],
   "source": [
    "if __name__ == \"__main__\":\n",
    "    stack = Stack()\n",
    "    stack.push(\"HELLO\")\n",
    "    stack.push(\"MY\")\n",
    "    stack.push(\"FRIEND\")\n",
    "    print(stack.items)\n",
    "    print(stack.size())\n",
    "    print(stack.peek())\n",
    "    print(stack.pop())\n",
    "    print(stack.items)\n",
    "    print(stack.pop())\n",
    "    print(stack.pop())\n",
    "    print(stack.items)"
   ]
  },
  {
   "cell_type": "code",
   "execution_count": 8,
   "metadata": {},
   "outputs": [],
   "source": [
    "class Queue(object):\n",
    "    \"\"\"队列\"\"\"\n",
    "    def __init__(self):\n",
    "        self.items = []\n",
    "\n",
    "    def is_empty(self):\n",
    "        return self.items == []\n",
    "\n",
    "    def enqueue(self, item):\n",
    "        \"\"\"进队列\"\"\"\n",
    "        self.items.insert(0,item)\n",
    "\n",
    "    def dequeue(self):\n",
    "        \"\"\"出队列\"\"\"\n",
    "        return self.items.pop()\n",
    "\n",
    "    def size(self):\n",
    "        \"\"\"返回大小\"\"\"\n",
    "        return len(self.items)"
   ]
  },
  {
   "cell_type": "code",
   "execution_count": 11,
   "metadata": {},
   "outputs": [
    {
     "name": "stdout",
     "output_type": "stream",
     "text": [
      "3\n",
      "['friend', 'my', 'hello']\n",
      "hello\n",
      "['friend', 'my']\n",
      "my\n",
      "['friend']\n",
      "friend\n",
      "[]\n"
     ]
    }
   ],
   "source": [
    "if __name__ == \"__main__\":\n",
    "    q = Queue()\n",
    "    q.enqueue(\"hello\")\n",
    "    q.enqueue(\"my\")\n",
    "    q.enqueue(\"friend\")\n",
    "    print(q.size())\n",
    "    print(q.items)\n",
    "    print(q.dequeue())\n",
    "    print(q.items)\n",
    "    print(q.dequeue())\n",
    "    print(q.items)\n",
    "    print(q.dequeue())\n",
    "    print(q.items)"
   ]
  },
  {
   "cell_type": "code",
   "execution_count": 17,
   "metadata": {},
   "outputs": [],
   "source": [
    "class LoopQueue(object):\n",
    "    def __init__(self, n=2):\n",
    "        self.arr = [None] * (n+1)  # 由于特意浪费了一个空间，所以arr的实际大小应该是用户传入的容量+1\n",
    "        self.front = 0\n",
    "        self.tail = 0\n",
    "        self.size = 0\n",
    "\n",
    "    def __str__(self):\n",
    "        return str(self.arr)\n",
    "\n",
    "    def __len__(self):\n",
    "        return len(self.arr)\n",
    "\n",
    "    def __iter__(self):\n",
    "        return iter(self.arr)\n",
    "\n",
    "    def get_size(self):\n",
    "        # 获取队列元素个数\n",
    "        return self.size\n",
    "\n",
    "    def get_capaticty(self):\n",
    "        # 获取队列容积（实际可存储元素个数）\n",
    "        return self.__len__() - 1\n",
    "\n",
    "    def is_full(self):\n",
    "        # 判断队列是否为满\n",
    "        return (self.tail+1) % len(self.arr) == self.front\n",
    "\n",
    "    def is_empty(self):\n",
    "        # 判断队列是否为空\n",
    "        return self.size == 0\n",
    "\n",
    "    def get_front(self):\n",
    "        # 获取队首\n",
    "        return self.arr[self.front]\n",
    "\n",
    "    def enqueue(self, e):\n",
    "        # 入队\n",
    "        if self.is_full():\n",
    "            self.resize(self.get_capaticty() * 2)  # 如果队列满，以当前队列容积的2倍进行扩容\n",
    "        self.arr[self.tail] = e\n",
    "        self.tail = (self.tail+1) % len(self.arr)\n",
    "        self.size += 1\n",
    "\n",
    "    def dequeue(self):\n",
    "        # 出队\n",
    "        if self.is_empty():\n",
    "            raise Exception(\"Cannot dequeue from en empty queue\")\n",
    "\n",
    "        result = self.arr[self.front]\n",
    "        self.arr[self.front] = None\n",
    "        self.front = (self.front+1) % len(self.arr)\n",
    "        self.size -= 1\n",
    "\n",
    "        # 如果元素个数少于容积的1/4并且元素个数\n",
    "        if self.size < self.get_capaticty() // 4 and self.get_capaticty() > 1:\n",
    "            self.resize(self.get_capaticty() // 2)\n",
    "        return result\n",
    "\n",
    "    def resize(self, new_capacity):\n",
    "        new_arr = [None] * (new_capacity+1)\n",
    "        for i in range(self.size):\n",
    "            new_arr[i] = self.arr[(i+self.front) % len(self.arr)]\n",
    "\n",
    "        self.arr = new_arr\n",
    "        self.front = 0\n",
    "        self.tail = self.size"
   ]
  },
  {
   "cell_type": "code",
   "execution_count": 26,
   "metadata": {},
   "outputs": [
    {
     "name": "stdout",
     "output_type": "stream",
     "text": [
      "['hello', 'my', None]\n",
      "3\n",
      "['hello', 'my', 'friend', None, None]\n",
      "hello\n",
      "[None, 'my', 'friend', None, None]\n",
      "my\n",
      "[None, None, 'friend', None, None]\n",
      "[None, None, 'friend', 'hello', None]\n",
      "[None, None, 'friend', 'hello', 'my']\n",
      "['love', None, 'friend', 'hello', 'my']\n",
      "friend\n",
      "hello\n",
      "my\n",
      "['love', None, None, None, None]\n",
      "love\n",
      "[None, None, None]\n"
     ]
    }
   ],
   "source": [
    "if __name__ == '__main__':\n",
    "    loop_queue = LoopQueue()\n",
    "    loop_queue.enqueue(\"hello\")\n",
    "    loop_queue.enqueue(\"my\")\n",
    "    print(loop_queue.arr)\n",
    "    loop_queue.enqueue(\"friend\")\n",
    "    print(loop_queue.get_size())\n",
    "    print(loop_queue.arr)\n",
    "    print(loop_queue.dequeue())\n",
    "    print(loop_queue.arr)\n",
    "    print(loop_queue.dequeue())\n",
    "    print(loop_queue.arr)\n",
    "    loop_queue.enqueue(\"hello\")\n",
    "    print(loop_queue.arr)\n",
    "    loop_queue.enqueue(\"my\")\n",
    "    print(loop_queue.arr)\n",
    "    loop_queue.enqueue(\"love\")\n",
    "    print(loop_queue.arr)\n",
    "    print(loop_queue.dequeue())\n",
    "    print(loop_queue.dequeue())\n",
    "    print(loop_queue.dequeue())\n",
    "    print(loop_queue.arr)\n",
    "    print(loop_queue.dequeue())\n",
    "    print(loop_queue.arr)"
   ]
  },
  {
   "cell_type": "code",
   "execution_count": 30,
   "metadata": {},
   "outputs": [],
   "source": [
    "class Deque(object):\n",
    "    \"\"\"双端队列\"\"\"\n",
    "    def __init__(self):\n",
    "        self.items = []\n",
    "\n",
    "    def is_empty(self):\n",
    "        \"\"\"判断队列是否为空\"\"\"\n",
    "        return self.items == []\n",
    "\n",
    "    def add_front(self, item):\n",
    "        \"\"\"在队头添加元素\"\"\"\n",
    "        self.items.insert(0,item)\n",
    "\n",
    "    def add_rear(self, item):\n",
    "        \"\"\"在队尾添加元素\"\"\"\n",
    "        self.items.append(item)\n",
    "\n",
    "    def remove_front(self):\n",
    "        \"\"\"从队头删除元素\"\"\"\n",
    "        return self.items.pop(0)\n",
    "\n",
    "    def remove_rear(self):\n",
    "        \"\"\"从队尾删除元素\"\"\"\n",
    "        return self.items.pop()\n",
    "\n",
    "    def size(self):\n",
    "        \"\"\"返回队列大小\"\"\"\n",
    "        return len(self.items)"
   ]
  },
  {
   "cell_type": "code",
   "execution_count": 35,
   "metadata": {},
   "outputs": [
    {
     "name": "stdout",
     "output_type": "stream",
     "text": [
      "[2, 1]\n",
      "[2, 1, 3, 4]\n",
      "4\n",
      "2\n",
      "1\n",
      "4\n",
      "3\n"
     ]
    }
   ],
   "source": [
    "if __name__ == \"__main__\":\n",
    "    deque = Deque()\n",
    "    deque.add_front(1)\n",
    "    deque.add_front(2)\n",
    "    print(deque.items)\n",
    "    deque.add_rear(3)\n",
    "    deque.add_rear(4)\n",
    "    print(deque.items)\n",
    "    print(deque.size())\n",
    "    print(deque.remove_front())\n",
    "    print(deque.remove_front())\n",
    "    print(deque.remove_rear())\n",
    "    print(deque.remove_rear())"
   ]
  },
  {
   "cell_type": "code",
   "execution_count": 42,
   "metadata": {},
   "outputs": [],
   "source": [
    "def palchecker(aString):\n",
    "\n",
    "    deque = Deque()\n",
    "\t# 回文词入队\n",
    "    for i in aString:\n",
    "        deque.add_front(i)\n",
    "\n",
    "    state = True\n",
    "    # 双向读取并比较\n",
    "    while deque.size() > 1 and state:\n",
    "        df = deque.remove_front()\n",
    "        dr = deque.remove_rear()\n",
    "        # print(df,dr)\n",
    "        if df != dr:\n",
    "            state = False\n",
    "\n",
    "    return state"
   ]
  },
  {
   "cell_type": "code",
   "execution_count": 44,
   "metadata": {},
   "outputs": [
    {
     "data": {
      "text/plain": [
       "False"
      ]
     },
     "execution_count": 44,
     "metadata": {},
     "output_type": "execute_result"
    }
   ],
   "source": [
    "palchecker('abaa')"
   ]
  },
  {
   "cell_type": "code",
   "execution_count": null,
   "metadata": {},
   "outputs": [],
   "source": []
  }
 ],
 "metadata": {
  "kernelspec": {
   "display_name": "Python 3",
   "language": "python",
   "name": "python3"
  },
  "language_info": {
   "codemirror_mode": {
    "name": "ipython",
    "version": 3
   },
   "file_extension": ".py",
   "mimetype": "text/x-python",
   "name": "python",
   "nbconvert_exporter": "python",
   "pygments_lexer": "ipython3",
   "version": "3.8.3"
  }
 },
 "nbformat": 4,
 "nbformat_minor": 4
}
